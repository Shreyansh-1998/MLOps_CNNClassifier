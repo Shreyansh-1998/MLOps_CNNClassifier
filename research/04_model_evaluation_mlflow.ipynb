{
 "cells": [
  {
   "cell_type": "code",
   "execution_count": 1,
   "metadata": {},
   "outputs": [],
   "source": [
    "import os"
   ]
  },
  {
   "cell_type": "code",
   "execution_count": 2,
   "metadata": {},
   "outputs": [
    {
     "data": {
      "text/plain": [
       "'/Users/shrey_98/Desktop/MLOps_CNNClassifier/research'"
      ]
     },
     "execution_count": 2,
     "metadata": {},
     "output_type": "execute_result"
    }
   ],
   "source": [
    "%pwd"
   ]
  },
  {
   "cell_type": "code",
   "execution_count": 3,
   "metadata": {},
   "outputs": [],
   "source": [
    "os.chdir('../')"
   ]
  },
  {
   "cell_type": "code",
   "execution_count": 4,
   "metadata": {},
   "outputs": [
    {
     "data": {
      "text/plain": [
       "'/Users/shrey_98/Desktop/MLOps_CNNClassifier'"
      ]
     },
     "execution_count": 4,
     "metadata": {},
     "output_type": "execute_result"
    }
   ],
   "source": [
    "%pwd"
   ]
  },
  {
   "cell_type": "code",
   "execution_count": 5,
   "metadata": {},
   "outputs": [],
   "source": [
    "os.environ[\"MLFLOW_TRACKING_URI\"] = \"https://dagshub.com/Shreyansh-1998/MLOps_CNNClassifier.mlflow\"\n",
    "os.environ[\"MLFLOW_TRACKING_USERNAME\"] = \"Shreyansh-1998\"\n",
    "os.environ[\"MLFLOW_TRACKING_PASSWORD\"] = \"@@@@@@@@\""
   ]
  },
  {
   "cell_type": "code",
   "execution_count": 6,
   "metadata": {},
   "outputs": [],
   "source": [
    "import tensorflow as tf\n"
   ]
  },
  {
   "cell_type": "code",
   "execution_count": 7,
   "metadata": {},
   "outputs": [],
   "source": [
    "model=tf.keras.models.load_model(\"artifacts/training/model.h5\")"
   ]
  },
  {
   "cell_type": "code",
   "execution_count": 8,
   "metadata": {},
   "outputs": [],
   "source": [
    "from dataclasses import dataclass\n",
    "from pathlib import Path\n",
    "\n",
    "@dataclass(frozen=True)\n",
    "class EvaluationConfig:\n",
    "    path_of_model:Path\n",
    "    training_data:Path\n",
    "    all_params:dict\n",
    "    mlflow_uri:str\n",
    "    params_image_size:list\n",
    "    params_batch_size:int\n"
   ]
  },
  {
   "cell_type": "code",
   "execution_count": 9,
   "metadata": {},
   "outputs": [],
   "source": [
    "from MLOPSCNNCLASSIFIER.constants import *\n",
    "from MLOPSCNNCLASSIFIER.utils.common import read_yaml,create_directories,save_json"
   ]
  },
  {
   "cell_type": "code",
   "execution_count": 10,
   "metadata": {},
   "outputs": [],
   "source": [
    "class ConfigurationManager:\n",
    "    def __init__(\n",
    "            self,\n",
    "            config_filepath = CONFIG_FILE_PATH,\n",
    "            params_filepath = PARAMS_FILE_PATH):\n",
    "\n",
    "             self.config = read_yaml(config_filepath)\n",
    "             self.params = read_yaml(params_filepath)\n",
    "             create_directories([self.config.artifacts_root])\n",
    "    \n",
    "    def get_evaluation_config(self):\n",
    "        eval_config=EvaluationConfig(\n",
    "               path_of_model=\"artifacts/training/model.h5\",\n",
    "               training_data=\"artifacts/data_ingestion/KIDNEY_CT_SCAN\",\n",
    "               mlflow_uri=\"https://dagshub.com/Shreyansh-1998/MLOps_CNNClassifier.mlflow\",\n",
    "               all_params=self.params,\n",
    "               params_image_size=self.params.IMAGE_SIZE,\n",
    "               params_batch_size=self.params.BATCH_SIZE\n",
    "\n",
    "           )\n",
    "        return eval_config \n"
   ]
  },
  {
   "cell_type": "code",
   "execution_count": 11,
   "metadata": {},
   "outputs": [
    {
     "name": "stdout",
     "output_type": "stream",
     "text": [
      "Requirement already satisfied: mlflow==2.5.0 in /opt/anaconda3/envs/venv/lib/python3.8/site-packages (2.5.0)\n",
      "Requirement already satisfied: click<9,>=7.0 in /opt/anaconda3/envs/venv/lib/python3.8/site-packages (from mlflow==2.5.0) (8.1.7)\n",
      "Requirement already satisfied: cloudpickle<3 in /opt/anaconda3/envs/venv/lib/python3.8/site-packages (from mlflow==2.5.0) (2.2.1)\n",
      "Requirement already satisfied: databricks-cli<1,>=0.8.7 in /opt/anaconda3/envs/venv/lib/python3.8/site-packages (from mlflow==2.5.0) (0.18.0)\n",
      "Requirement already satisfied: entrypoints<1 in /opt/anaconda3/envs/venv/lib/python3.8/site-packages (from mlflow==2.5.0) (0.4)\n",
      "Requirement already satisfied: gitpython<4,>=2.1.0 in /opt/anaconda3/envs/venv/lib/python3.8/site-packages (from mlflow==2.5.0) (3.1.42)\n",
      "Requirement already satisfied: pyyaml<7,>=5.1 in /opt/anaconda3/envs/venv/lib/python3.8/site-packages (from mlflow==2.5.0) (6.0.1)\n",
      "Requirement already satisfied: protobuf<5,>=3.12.0 in /opt/anaconda3/envs/venv/lib/python3.8/site-packages (from mlflow==2.5.0) (4.25.3)\n",
      "Requirement already satisfied: pytz<2024 in /opt/anaconda3/envs/venv/lib/python3.8/site-packages (from mlflow==2.5.0) (2023.4)\n",
      "Requirement already satisfied: requests<3,>=2.17.3 in /opt/anaconda3/envs/venv/lib/python3.8/site-packages (from mlflow==2.5.0) (2.31.0)\n",
      "Requirement already satisfied: packaging<24 in /opt/anaconda3/envs/venv/lib/python3.8/site-packages (from mlflow==2.5.0) (23.2)\n",
      "Requirement already satisfied: importlib-metadata!=4.7.0,<7,>=3.7.0 in /opt/anaconda3/envs/venv/lib/python3.8/site-packages (from mlflow==2.5.0) (6.11.0)\n",
      "Requirement already satisfied: sqlparse<1,>=0.4.0 in /opt/anaconda3/envs/venv/lib/python3.8/site-packages (from mlflow==2.5.0) (0.4.4)\n",
      "Requirement already satisfied: alembic!=1.10.0,<2 in /opt/anaconda3/envs/venv/lib/python3.8/site-packages (from mlflow==2.5.0) (1.13.1)\n",
      "Requirement already satisfied: docker<7,>=4.0.0 in /opt/anaconda3/envs/venv/lib/python3.8/site-packages (from mlflow==2.5.0) (6.1.3)\n",
      "Requirement already satisfied: Flask<3 in /opt/anaconda3/envs/venv/lib/python3.8/site-packages (from mlflow==2.5.0) (2.3.3)\n",
      "Requirement already satisfied: numpy<2 in /opt/anaconda3/envs/venv/lib/python3.8/site-packages (from mlflow==2.5.0) (1.24.3)\n",
      "Requirement already satisfied: scipy<2 in /opt/anaconda3/envs/venv/lib/python3.8/site-packages (from mlflow==2.5.0) (1.10.1)\n",
      "Requirement already satisfied: pandas<3 in /opt/anaconda3/envs/venv/lib/python3.8/site-packages (from mlflow==2.5.0) (2.0.3)\n",
      "Requirement already satisfied: querystring-parser<2 in /opt/anaconda3/envs/venv/lib/python3.8/site-packages (from mlflow==2.5.0) (1.2.4)\n",
      "Requirement already satisfied: sqlalchemy<3,>=1.4.0 in /opt/anaconda3/envs/venv/lib/python3.8/site-packages (from mlflow==2.5.0) (2.0.28)\n",
      "Requirement already satisfied: scikit-learn<2 in /opt/anaconda3/envs/venv/lib/python3.8/site-packages (from mlflow==2.5.0) (1.3.2)\n",
      "Requirement already satisfied: pyarrow<13,>=4.0.0 in /opt/anaconda3/envs/venv/lib/python3.8/site-packages (from mlflow==2.5.0) (12.0.1)\n",
      "Requirement already satisfied: markdown<4,>=3.3 in /opt/anaconda3/envs/venv/lib/python3.8/site-packages (from mlflow==2.5.0) (3.6)\n",
      "Requirement already satisfied: matplotlib<4 in /opt/anaconda3/envs/venv/lib/python3.8/site-packages (from mlflow==2.5.0) (3.7.5)\n",
      "Requirement already satisfied: gunicorn<21 in /opt/anaconda3/envs/venv/lib/python3.8/site-packages (from mlflow==2.5.0) (20.1.0)\n",
      "Requirement already satisfied: Jinja2<4,>=2.11 in /opt/anaconda3/envs/venv/lib/python3.8/site-packages (from mlflow==2.5.0) (3.1.3)\n",
      "Requirement already satisfied: Mako in /opt/anaconda3/envs/venv/lib/python3.8/site-packages (from alembic!=1.10.0,<2->mlflow==2.5.0) (1.3.2)\n",
      "Requirement already satisfied: typing-extensions>=4 in /opt/anaconda3/envs/venv/lib/python3.8/site-packages (from alembic!=1.10.0,<2->mlflow==2.5.0) (4.10.0)\n",
      "Requirement already satisfied: importlib-resources in /opt/anaconda3/envs/venv/lib/python3.8/site-packages (from alembic!=1.10.0,<2->mlflow==2.5.0) (6.3.0)\n",
      "Requirement already satisfied: pyjwt>=1.7.0 in /opt/anaconda3/envs/venv/lib/python3.8/site-packages (from databricks-cli<1,>=0.8.7->mlflow==2.5.0) (2.8.0)\n",
      "Requirement already satisfied: oauthlib>=3.1.0 in /opt/anaconda3/envs/venv/lib/python3.8/site-packages (from databricks-cli<1,>=0.8.7->mlflow==2.5.0) (3.2.2)\n",
      "Requirement already satisfied: tabulate>=0.7.7 in /opt/anaconda3/envs/venv/lib/python3.8/site-packages (from databricks-cli<1,>=0.8.7->mlflow==2.5.0) (0.9.0)\n",
      "Requirement already satisfied: six>=1.10.0 in /opt/anaconda3/envs/venv/lib/python3.8/site-packages (from databricks-cli<1,>=0.8.7->mlflow==2.5.0) (1.16.0)\n",
      "Requirement already satisfied: urllib3<3,>=1.26.7 in /opt/anaconda3/envs/venv/lib/python3.8/site-packages (from databricks-cli<1,>=0.8.7->mlflow==2.5.0) (2.2.1)\n",
      "Requirement already satisfied: websocket-client>=0.32.0 in /opt/anaconda3/envs/venv/lib/python3.8/site-packages (from docker<7,>=4.0.0->mlflow==2.5.0) (1.7.0)\n",
      "Requirement already satisfied: Werkzeug>=2.3.7 in /opt/anaconda3/envs/venv/lib/python3.8/site-packages (from Flask<3->mlflow==2.5.0) (3.0.1)\n",
      "Requirement already satisfied: itsdangerous>=2.1.2 in /opt/anaconda3/envs/venv/lib/python3.8/site-packages (from Flask<3->mlflow==2.5.0) (2.1.2)\n",
      "Requirement already satisfied: blinker>=1.6.2 in /opt/anaconda3/envs/venv/lib/python3.8/site-packages (from Flask<3->mlflow==2.5.0) (1.7.0)\n",
      "Requirement already satisfied: gitdb<5,>=4.0.1 in /opt/anaconda3/envs/venv/lib/python3.8/site-packages (from gitpython<4,>=2.1.0->mlflow==2.5.0) (4.0.11)\n",
      "Requirement already satisfied: setuptools>=3.0 in /opt/anaconda3/envs/venv/lib/python3.8/site-packages (from gunicorn<21->mlflow==2.5.0) (68.2.2)\n",
      "Requirement already satisfied: zipp>=0.5 in /opt/anaconda3/envs/venv/lib/python3.8/site-packages (from importlib-metadata!=4.7.0,<7,>=3.7.0->mlflow==2.5.0) (3.18.1)\n",
      "Requirement already satisfied: MarkupSafe>=2.0 in /opt/anaconda3/envs/venv/lib/python3.8/site-packages (from Jinja2<4,>=2.11->mlflow==2.5.0) (2.1.5)\n",
      "Requirement already satisfied: contourpy>=1.0.1 in /opt/anaconda3/envs/venv/lib/python3.8/site-packages (from matplotlib<4->mlflow==2.5.0) (1.1.1)\n",
      "Requirement already satisfied: cycler>=0.10 in /opt/anaconda3/envs/venv/lib/python3.8/site-packages (from matplotlib<4->mlflow==2.5.0) (0.12.1)\n",
      "Requirement already satisfied: fonttools>=4.22.0 in /opt/anaconda3/envs/venv/lib/python3.8/site-packages (from matplotlib<4->mlflow==2.5.0) (4.50.0)\n",
      "Requirement already satisfied: kiwisolver>=1.0.1 in /opt/anaconda3/envs/venv/lib/python3.8/site-packages (from matplotlib<4->mlflow==2.5.0) (1.4.5)\n",
      "Requirement already satisfied: pillow>=6.2.0 in /opt/anaconda3/envs/venv/lib/python3.8/site-packages (from matplotlib<4->mlflow==2.5.0) (10.2.0)\n",
      "Requirement already satisfied: pyparsing>=2.3.1 in /opt/anaconda3/envs/venv/lib/python3.8/site-packages (from matplotlib<4->mlflow==2.5.0) (3.1.2)\n",
      "Requirement already satisfied: python-dateutil>=2.7 in /opt/anaconda3/envs/venv/lib/python3.8/site-packages (from matplotlib<4->mlflow==2.5.0) (2.9.0.post0)\n",
      "Requirement already satisfied: tzdata>=2022.1 in /opt/anaconda3/envs/venv/lib/python3.8/site-packages (from pandas<3->mlflow==2.5.0) (2024.1)\n",
      "Requirement already satisfied: charset-normalizer<4,>=2 in /opt/anaconda3/envs/venv/lib/python3.8/site-packages (from requests<3,>=2.17.3->mlflow==2.5.0) (3.3.2)\n",
      "Requirement already satisfied: idna<4,>=2.5 in /opt/anaconda3/envs/venv/lib/python3.8/site-packages (from requests<3,>=2.17.3->mlflow==2.5.0) (3.6)\n",
      "Requirement already satisfied: certifi>=2017.4.17 in /opt/anaconda3/envs/venv/lib/python3.8/site-packages (from requests<3,>=2.17.3->mlflow==2.5.0) (2024.2.2)\n",
      "Requirement already satisfied: joblib>=1.1.1 in /opt/anaconda3/envs/venv/lib/python3.8/site-packages (from scikit-learn<2->mlflow==2.5.0) (1.3.2)\n",
      "Requirement already satisfied: threadpoolctl>=2.0.0 in /opt/anaconda3/envs/venv/lib/python3.8/site-packages (from scikit-learn<2->mlflow==2.5.0) (3.3.0)\n",
      "Requirement already satisfied: smmap<6,>=3.0.1 in /opt/anaconda3/envs/venv/lib/python3.8/site-packages (from gitdb<5,>=4.0.1->gitpython<4,>=2.1.0->mlflow==2.5.0) (5.0.1)\n",
      "Note: you may need to restart the kernel to use updated packages.\n"
     ]
    }
   ],
   "source": [
    "pip install mlflow==2.5.0"
   ]
  },
  {
   "cell_type": "code",
   "execution_count": 12,
   "metadata": {},
   "outputs": [],
   "source": [
    "import tensorflow as tf\n",
    "from pathlib import Path\n",
    "import mlflow\n",
    "import mlflow.keras\n",
    "from urllib.parse import urlparse\n",
    "\n"
   ]
  },
  {
   "cell_type": "code",
   "execution_count": 13,
   "metadata": {},
   "outputs": [],
   "source": [
    "class Evaluation:\n",
    "    def __init__(self,config:EvaluationConfig):\n",
    "        self.config=config\n",
    "    \n",
    "    def _valid_generator(self):\n",
    "        \n",
    "        datagenerator_kwargs= dict(\n",
    "            rescale= 1./255,\n",
    "            validation_split=0.30\n",
    "        )\n",
    "\n",
    "        dataflow_kwargs= dict(\n",
    "            target_size=self.config.params_image_size[:-1],\n",
    "            batch_size=self.config.params_batch_size,\n",
    "            interpolation=\"bilinear\"\n",
    "        )\n",
    "\n",
    "        valid_datagenerator=tf.keras.preprocessing.image.ImageDataGenerator(\n",
    "            **datagenerator_kwargs\n",
    "        )\n",
    "\n",
    "        self.valid_generator= valid_datagenerator.flow_from_directory(\n",
    "            directory=  self.config.training_data,\n",
    "            subset  =\"validation\",\n",
    "            shuffle= False,\n",
    "            **dataflow_kwargs\n",
    "        )\n",
    "    \n",
    "    @staticmethod\n",
    "    def load_model(path:Path):\n",
    "        return tf.keras.models.load_model(path)\n",
    "    \n",
    "    def evaluation(self):\n",
    "        self.model=self.load_model(self.config.path_of_model)\n",
    "        self._valid_generator()\n",
    "        self.score=model.evaluate(self.valid_generator)\n",
    "        self.save_score()\n",
    "    \n",
    "    def save_score(self):\n",
    "        scores={\"loss\":self.score[0],\"accuracy\":self.score[1]}\n",
    "        save_json(path=Path(\"scores.json\"),data=scores)\n",
    "\n",
    "    #mlflow integration\n",
    "    def log_into_mlflow(self):\n",
    "        mlflow.set_registry_uri(self.config.mlflow_uri)\n",
    "        tracking_url_type_store= urlparse(mlflow.get_registry_uri()).scheme\n",
    "\n",
    "        with mlflow.start_run():\n",
    "            mlflow.log_params(self.config.all_params)\n",
    "            mlflow.log_metrics(\n",
    "                {\"loss\":self.score[0],\n",
    "                 \"accuracy\":self.score[1]}\n",
    "                 )\n",
    "            #Model registry does not work with file store\n",
    "            if tracking_url_type_store != \"file\":\n",
    "                mlflow.keras.log_model(self.model,\"model\",registered_model_name=\"VGG16Model\")\n",
    "\n",
    "            else:\n",
    "                mlflow.keras.log_model(self.model,\"model\")\n",
    "\n"
   ]
  },
  {
   "cell_type": "code",
   "execution_count": 14,
   "metadata": {},
   "outputs": [
    {
     "name": "stdout",
     "output_type": "stream",
     "text": [
      "[2024-03-22 15:59:13,064: INFO: common: YAML file: config/config.yaml loaded successfully]\n",
      "[2024-03-22 15:59:13,067: INFO: common: YAML file: params.yaml loaded successfully]\n",
      "[2024-03-22 15:59:13,068: INFO: common: Directory created at artifacts]\n",
      "Found 2207 images belonging to 2 classes.\n",
      "138/138 [==============================] - 264s 2s/step - loss: 2.8497 - accuracy: 0.7417\n",
      "[2024-03-22 16:03:37,128: INFO: common: json file saved at scores.json]\n"
     ]
    },
    {
     "name": "stderr",
     "output_type": "stream",
     "text": [
      "2024/03/22 16:03:38 WARNING mlflow.tensorflow: You are saving a TensorFlow Core model or Keras model without a signature. Inference with mlflow.pyfunc.spark_udf() will not work unless the model's pyfunc representation accepts pandas DataFrames as inference inputs.\n"
     ]
    },
    {
     "name": "stdout",
     "output_type": "stream",
     "text": [
      "INFO:tensorflow:Assets written to: /var/folders/l2/8f2r1rwx6lx76vv6n6ncb1k40000gn/T/tmpbv606wje/model/data/model/assets\n",
      "[2024-03-22 16:03:38,992: INFO: builder_impl: Assets written to: /var/folders/l2/8f2r1rwx6lx76vv6n6ncb1k40000gn/T/tmpbv606wje/model/data/model/assets]\n"
     ]
    },
    {
     "name": "stderr",
     "output_type": "stream",
     "text": [
      "/opt/anaconda3/envs/venv/lib/python3.8/site-packages/_distutils_hack/__init__.py:33: UserWarning: Setuptools is replacing distutils.\n",
      "  warnings.warn(\"Setuptools is replacing distutils.\")\n",
      "Registered model 'VGG16Model' already exists. Creating a new version of this model...\n",
      "2024/03/22 16:03:55 INFO mlflow.tracking._model_registry.client: Waiting up to 300 seconds for model version to finish creation. Model name: VGG16Model, version 3\n",
      "Created version '3' of model 'VGG16Model'.\n"
     ]
    }
   ],
   "source": [
    "try:\n",
    "    config_manager=ConfigurationManager()\n",
    "    eval_config=config_manager.get_evaluation_config()\n",
    "    evaluation=Evaluation(eval_config)\n",
    "    evaluation.evaluation()\n",
    "    evaluation.log_into_mlflow()    \n",
    "    \n",
    "except Exception as e:\n",
    "    raise e"
   ]
  }
 ],
 "metadata": {
  "kernelspec": {
   "display_name": "venv",
   "language": "python",
   "name": "python3"
  },
  "language_info": {
   "codemirror_mode": {
    "name": "ipython",
    "version": 3
   },
   "file_extension": ".py",
   "mimetype": "text/x-python",
   "name": "python",
   "nbconvert_exporter": "python",
   "pygments_lexer": "ipython3",
   "version": "3.8.18"
  }
 },
 "nbformat": 4,
 "nbformat_minor": 2
}
