{
 "cells": [
  {
   "cell_type": "code",
   "execution_count": 1,
   "metadata": {},
   "outputs": [],
   "source": [
    "import os"
   ]
  },
  {
   "cell_type": "code",
   "execution_count": 2,
   "metadata": {},
   "outputs": [
    {
     "data": {
      "text/plain": [
       "'/Users/shrey_98/Desktop/MLOps_CNNClassifier/research'"
      ]
     },
     "execution_count": 2,
     "metadata": {},
     "output_type": "execute_result"
    }
   ],
   "source": [
    "%pwd"
   ]
  },
  {
   "cell_type": "code",
   "execution_count": 3,
   "metadata": {},
   "outputs": [],
   "source": [
    "os.chdir(\"../\")"
   ]
  },
  {
   "cell_type": "code",
   "execution_count": 4,
   "metadata": {},
   "outputs": [
    {
     "data": {
      "text/plain": [
       "'/Users/shrey_98/Desktop/MLOps_CNNClassifier'"
      ]
     },
     "execution_count": 4,
     "metadata": {},
     "output_type": "execute_result"
    }
   ],
   "source": [
    "%pwd"
   ]
  },
  {
   "cell_type": "code",
   "execution_count": 5,
   "metadata": {},
   "outputs": [],
   "source": [
    "from dataclasses import dataclass\n",
    "from pathlib import Path\n",
    "\n",
    "@dataclass(frozen=True)\n",
    "class DataIngestionConfig:\n",
    "    root_dir: Path\n",
    "    source_URL: str\n",
    "    local_data_file: Path\n",
    "    unzip_dir: Path"
   ]
  },
  {
   "cell_type": "code",
   "execution_count": 6,
   "metadata": {},
   "outputs": [],
   "source": [
    "from MLOPSCNNCLASSIFIER.constants import *\n",
    "from MLOPSCNNCLASSIFIER.utils.common import read_yaml,create_directories"
   ]
  },
  {
   "cell_type": "code",
   "execution_count": 19,
   "metadata": {},
   "outputs": [],
   "source": [
    "class ConfigurationManager:\n",
    "    def __init__(self,config_filepath=CONFIG_FILE_PATH,params_filepath=PARAMS_FILE_PATH):\n",
    "        self.config = read_yaml(config_filepath)\n",
    "        self.params = read_yaml(params_filepath)\n",
    "\n",
    "        create_directories([self.config.artifacts_root])\n",
    "\n",
    "\n",
    "    def get_data_ingestion_config(self)-> DataIngestionConfig:\n",
    "        config=self.config.data_ingestion\n",
    "\n",
    "        create_directories([config.root_dir])\n",
    "\n",
    "        data_ingestion_config = DataIngestionConfig(\n",
    "            root_dir=config.root_dir,\n",
    "            source_URL=config.source_URL,\n",
    "            local_data_file=config.local_data_file,\n",
    "            unzip_dir=config.unzip_dir\n",
    "        )\n",
    "\n",
    "        return data_ingestion_config\n",
    "     "
   ]
  },
  {
   "cell_type": "code",
   "execution_count": 20,
   "metadata": {},
   "outputs": [],
   "source": [
    "import os\n",
    "import urllib.request as request\n",
    "from zipfile import ZipFile \n",
    "import gdown\n",
    "from MLOPSCNNCLASSIFIER import logger\n",
    "from MLOPSCNNCLASSIFIER.utils.common import load_json\n",
    "from src.MLOPSCNNCLASSIFIER.utils.common import get_size"
   ]
  },
  {
   "cell_type": "code",
   "execution_count": 21,
   "metadata": {},
   "outputs": [],
   "source": [
    "class DataIngestion:\n",
    "\n",
    "    def __init__(self,config:DataIngestionConfig):\n",
    "        self.config = config\n",
    "   \n",
    "\n",
    "    def download_file(self)-> str:\n",
    "        try:\n",
    "                dataset_url=self.config.source_URL\n",
    "                zip_download_dir=self.config.local_data_file\n",
    "                os.makedirs(\"artifacts/data_ingestion\",exist_ok=True)\n",
    "                logger.info(f\"Downloading data from {dataset_url} to {zip_download_dir}\")\n",
    "\n",
    "                file_id=dataset_url.split(\"/\")[-2]\n",
    "                prefix=\"https://drive.google.com/uc?/export=download&id=\"\n",
    "                gdown.download(prefix+file_id,zip_download_dir)\n",
    "\n",
    "                logger.info(f\"Data downloaded from {dataset_url} into file {zip_download_dir}\")\n",
    "\n",
    "        except Exception as e:\n",
    "                raise e\n",
    "    \n",
    "    def extract_zip_file(self):\n",
    "          # Extract the zip file into the data directory and returns None\n",
    "        unzip_path=self.config.unzip_dir\n",
    "        os.makedirs(unzip_path,exist_ok=True)\n",
    "        with zipfile.ZipFile(self.config.local_data_file,'r') as zip_ref:\n",
    "            zip_ref.extractall(unzip_path)\n",
    "\n"
   ]
  },
  {
   "cell_type": "code",
   "execution_count": 23,
   "metadata": {},
   "outputs": [
    {
     "name": "stdout",
     "output_type": "stream",
     "text": [
      "[2024-03-18 16:56:30,505: INFO: common: YAML file: config/config.yaml loaded successfully]\n",
      "[2024-03-18 16:56:30,507: INFO: common: YAML file: params.yaml loaded successfully]\n",
      "[2024-03-18 16:56:30,508: INFO: common: Directory created at artifacts]\n",
      "[2024-03-18 16:56:30,509: INFO: common: Directory created at artifacts/data_ingestion]\n",
      "[2024-03-18 16:56:30,510: INFO: 2499461092: Downloading data from https://drive.google.com/file/d/1A0iqc9hefkzwZaK3llRWAGgdZMYN_5gV/view?usp=drive_link to artifacts/data_ingestion/data.zip]\n"
     ]
    },
    {
     "name": "stderr",
     "output_type": "stream",
     "text": [
      "Downloading...\n",
      "From (original): https://drive.google.com/uc?/export=download&id=1A0iqc9hefkzwZaK3llRWAGgdZMYN_5gV\n",
      "From (redirected): https://drive.google.com/uc?%2Fexport=download&id=1A0iqc9hefkzwZaK3llRWAGgdZMYN_5gV&confirm=t&uuid=137b71bb-c26b-482e-8ef2-bb7f2dc96241\n",
      "To: /Users/shrey_98/Desktop/MLOps_CNNClassifier/artifacts/data_ingestion/data.zip\n",
      "100%|██████████| 943M/943M [00:20<00:00, 45.5MB/s] "
     ]
    },
    {
     "name": "stdout",
     "output_type": "stream",
     "text": [
      "[2024-03-18 16:56:52,579: INFO: 2499461092: Data downloaded from https://drive.google.com/file/d/1A0iqc9hefkzwZaK3llRWAGgdZMYN_5gV/view?usp=drive_link into file artifacts/data_ingestion/data.zip]\n"
     ]
    },
    {
     "name": "stderr",
     "output_type": "stream",
     "text": [
      "\n"
     ]
    }
   ],
   "source": [
    "try:\n",
    "    config=ConfigurationManager()\n",
    "    data_ingestion_config=config.get_data_ingestion_config()\n",
    "    data_ingestion=DataIngestion(config=data_ingestion_config)\n",
    "    data_ingestion.download_file()\n",
    "    data_ingestion.extract_zip_file()\n",
    "\n",
    "except Exception as e:\n",
    "    raise e"
   ]
  }
 ],
 "metadata": {
  "kernelspec": {
   "display_name": "venv",
   "language": "python",
   "name": "python3"
  },
  "language_info": {
   "codemirror_mode": {
    "name": "ipython",
    "version": 3
   },
   "file_extension": ".py",
   "mimetype": "text/x-python",
   "name": "python",
   "nbconvert_exporter": "python",
   "pygments_lexer": "ipython3",
   "version": "3.8.18"
  }
 },
 "nbformat": 4,
 "nbformat_minor": 2
}
